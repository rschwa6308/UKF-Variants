{
 "cells": [
  {
   "cell_type": "code",
   "execution_count": 86,
   "metadata": {},
   "outputs": [],
   "source": [
    "import jax.numpy as jnp"
   ]
  },
  {
   "cell_type": "code",
   "execution_count": 87,
   "metadata": {},
   "outputs": [
    {
     "name": "stdout",
     "output_type": "stream",
     "text": [
      "The autoreload extension is already loaded. To reload it, use:\n",
      "  %reload_ext autoreload\n"
     ]
    }
   ],
   "source": [
    "%load_ext autoreload\n",
    "%autoreload 2"
   ]
  },
  {
   "cell_type": "code",
   "execution_count": 88,
   "metadata": {},
   "outputs": [],
   "source": [
    "from Systems import AutoDiffSystemModel\n",
    "\n",
    "# Example Non-Linear System\n",
    "# state space dim: 3\n",
    "# control space dim: 2\n",
    "# measurement space dim: 1\n",
    "\n",
    "def f(x, u):\n",
    "  return x**2 + jnp.array([\n",
    "    [1, 1],\n",
    "    [1, 2],\n",
    "    [2, 1]\n",
    "  ]) @ jnp.sqrt(u)\n",
    "\n",
    "def h(x):\n",
    "  return -2.8 * x[0,0] / x[1,0]\n",
    "\n",
    "system = AutoDiffSystemModel(3, 2, 1, f, h)"
   ]
  },
  {
   "cell_type": "code",
   "execution_count": 89,
   "metadata": {},
   "outputs": [
    {
     "name": "stdout",
     "output_type": "stream",
     "text": [
      "F_x:\n",
      " [[2. 0. 0.]\n",
      " [0. 4. 0.]\n",
      " [0. 0. 6.]]\n",
      "F_u:\n",
      " [[0.5 0.5]\n",
      " [0.5 1. ]\n",
      " [1.  0.5]]\n",
      "H_x:\n",
      " [[-1.4  0.7  0. ]]\n"
     ]
    }
   ],
   "source": [
    "x_test = jnp.array([\n",
    "  [1],\n",
    "  [2],\n",
    "  [3]\n",
    "])\n",
    "\n",
    "u_test = jnp.array([\n",
    "  [1],\n",
    "  [1]\n",
    "])\n",
    "\n",
    "F_x, F_u = system.dynamics_jacobian(x_test, u_test)\n",
    "H_x = system.measurement_jacobian(x_test)\n",
    "\n",
    "print(\"F_x:\\n\", F_x)\n",
    "print(\"F_u:\\n\", F_u)\n",
    "print(\"H_x:\\n\", H_x)"
   ]
  }
 ],
 "metadata": {
  "kernelspec": {
   "display_name": "venv",
   "language": "python",
   "name": "python3"
  },
  "language_info": {
   "codemirror_mode": {
    "name": "ipython",
    "version": 3
   },
   "file_extension": ".py",
   "mimetype": "text/x-python",
   "name": "python",
   "nbconvert_exporter": "python",
   "pygments_lexer": "ipython3",
   "version": "3.10.7"
  }
 },
 "nbformat": 4,
 "nbformat_minor": 2
}
