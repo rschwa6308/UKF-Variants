{
 "cells": [
  {
   "cell_type": "code",
   "execution_count": 34,
   "metadata": {},
   "outputs": [
    {
     "data": {
      "text/plain": [
       "Array([[2.],\n",
       "       [4.],\n",
       "       [7.]], dtype=float32)"
      ]
     },
     "execution_count": 34,
     "metadata": {},
     "output_type": "execute_result"
    }
   ],
   "source": [
    "import jax.numpy as jnp\n",
    "import jax\n",
    "\n",
    "# state space dim: 3\n",
    "# control space dim: 2\n",
    "\n",
    "def f(x, u):\n",
    "  return x**2 + jnp.array([\n",
    "    [1, 1],\n",
    "    [1, 2],\n",
    "    [2, 1]\n",
    "  ]) @ jnp.sqrt(u)\n",
    "\n",
    "x_test = jnp.array([\n",
    "  [0],\n",
    "  [1],\n",
    "  [2]\n",
    "])\n",
    "\n",
    "u_test = jnp.array([\n",
    "  [1],\n",
    "  [1]\n",
    "])\n",
    "\n",
    "f(x_test, u_test)\n"
   ]
  },
  {
   "cell_type": "code",
   "execution_count": 35,
   "metadata": {},
   "outputs": [
    {
     "name": "stdout",
     "output_type": "stream",
     "text": [
      "[[0. 0. 0.]\n",
      " [0. 2. 0.]\n",
      " [0. 0. 4.]]\n",
      "[[0.5 0.5]\n",
      " [0.5 1. ]\n",
      " [1.  0.5]]\n"
     ]
    }
   ],
   "source": [
    "dynamics_func_dx = jax.jacfwd(f, argnums=0)   # wrt first arg (x)\n",
    "dynamics_func_du = jax.jacfwd(f, argnums=1)   # wrt second arg (u)\n",
    "\n",
    "F_x = dynamics_func_dx(x_test.astype(float), u_test.astype(float))\n",
    "F_u = dynamics_func_du(x_test.astype(float), u_test.astype(float))\n",
    "\n",
    "F_x = F_x.squeeze((1,3))    # remove extra column-vector dimensions\n",
    "F_u = F_u.squeeze((1,3))    # remove extra column-vector dimensions\n",
    "\n",
    "print(F_x)\n",
    "print(F_u)"
   ]
  }
 ],
 "metadata": {
  "kernelspec": {
   "display_name": "venv",
   "language": "python",
   "name": "python3"
  },
  "language_info": {
   "codemirror_mode": {
    "name": "ipython",
    "version": 3
   },
   "file_extension": ".py",
   "mimetype": "text/x-python",
   "name": "python",
   "nbconvert_exporter": "python",
   "pygments_lexer": "ipython3",
   "version": "3.10.7"
  }
 },
 "nbformat": 4,
 "nbformat_minor": 2
}
