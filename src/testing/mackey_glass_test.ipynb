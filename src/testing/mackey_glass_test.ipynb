{
 "cells": [
  {
   "cell_type": "code",
   "execution_count": 37,
   "metadata": {},
   "outputs": [],
   "source": [
    "import numpy as np\n",
    "from tqdm import tqdm\n",
    "from matplotlib import pyplot as plt\n",
    "from copy import deepcopy"
   ]
  },
  {
   "cell_type": "code",
   "execution_count": 38,
   "metadata": {},
   "outputs": [
    {
     "name": "stdout",
     "output_type": "stream",
     "text": [
      "The autoreload extension is already loaded. To reload it, use:\n",
      "  %reload_ext autoreload\n"
     ]
    }
   ],
   "source": [
    "import sys\n",
    "sys.path.append(\"..\")\n",
    "sys.path.append(\"../filtering/\")\n",
    "\n",
    "%load_ext autoreload\n",
    "%autoreload 2"
   ]
  },
  {
   "cell_type": "code",
   "execution_count": 39,
   "metadata": {},
   "outputs": [],
   "source": [
    "from example_systems import generate_mackey_glass_system\n",
    "\n",
    "mg_system_gt = generate_mackey_glass_system(0.1)"
   ]
  },
  {
   "cell_type": "code",
   "execution_count": 40,
   "metadata": {},
   "outputs": [
    {
     "name": "stderr",
     "output_type": "stream",
     "text": [
      "100%|██████████| 999/999 [00:02<00:00, 445.75it/s]\n"
     ]
    }
   ],
   "source": [
    "from helpers import vec\n",
    "\n",
    "timesteps = np.arange(0.0, 1000, step=mg_system_gt.delta_t)\n",
    "T = len(timesteps)\n",
    "\n",
    "states_gt = np.zeros((T, 1, 1))\n",
    "controls = np.zeros((T, 1, 1))\n",
    "measurements = np.zeros((T, 1, 1))\n",
    "\n",
    "# initial position and velocity\n",
    "states_gt[0] = vec(\n",
    "    0.1              # P\n",
    ")\n",
    "\n",
    "# cart acceleration schedule\n",
    "t = np.min(np.argwhere(timesteps > 1.0))\n",
    "controls = timesteps\n",
    "\n",
    "for t in tqdm(range(1, T)):\n",
    "    x = states_gt[t-1]\n",
    "    u = controls[t]\n",
    "\n",
    "    x_next = mg_system_gt.query_dynamics_model(x, u)\n",
    "    states_gt[t] = x_next\n",
    "\n",
    "    z = mg_system_gt.query_measurement_model(x_next)\n",
    "    measurements[t] = z\n"
   ]
  },
  {
   "cell_type": "code",
   "execution_count": 41,
   "metadata": {},
   "outputs": [
    {
     "data": {
      "text/plain": [
       "<matplotlib.legend.Legend at 0x1a07140a490>"
      ]
     },
     "execution_count": 41,
     "metadata": {},
     "output_type": "execute_result"
    },
    {
     "data": {
      "image/png": "[encoded data removed]",
      "text/plain": [
       "<Figure size 800x600 with 1 Axes>"
      ]
     },
     "metadata": {},
     "output_type": "display_data"
    }
   ],
   "source": [
    "t_max = np.max(np.argwhere(~np.isnan(states_gt[:,0,0])))\n",
    "\n",
    "if t_max < T-1:\n",
    "    print(\"WARNING: System diverges at around t =\", t_max)\n",
    "    t_max -= 10\n",
    "\n",
    "P_gt = states_gt[:t_max,0,0]\n",
    "\n",
    "\n",
    "fig, ax = plt.subplots(figsize=(8, 6))\n",
    "\n",
    "# ax.plot(timesteps[:t_max], cart_gt, label=\"cart\")\n",
    "# ax.plot(timesteps[:t_max], cart_vel_gt, label=\"cart_vel\")\n",
    "ax.plot(timesteps[:t_max], P_gt, label=r\"$\\P$\")\n",
    "ax.legend(ncol=2)"
   ]
  },
  {
   "cell_type": "code",
   "execution_count": 42,
   "metadata": {},
   "outputs": [],
   "source": [
    "# Test all filters on same system model approximation\n",
    "subsample = 10            # filters run at a fraction of sampling rate of the simulation\n",
    "timesteps_sub = timesteps[::subsample]\n",
    "states_gt_sub = states_gt[::subsample]\n",
    "measurements_sub = measurements[::subsample]\n",
    "controls_sub = controls[::subsample]\n",
    "T_sub = len(timesteps_sub)\n",
    "\n",
    "mg_system_approx = generate_mackey_glass_system(dt=mg_system_gt.delta_t * subsample)"
   ]
  },
  {
   "cell_type": "code",
   "execution_count": 43,
   "metadata": {},
   "outputs": [
    {
     "data": {
      "text/plain": [
       "(array([[0.08330784]]), array([[0.001]]))"
      ]
     },
     "execution_count": 43,
     "metadata": {},
     "output_type": "execute_result"
    }
   ],
   "source": [
    "# Test all filters with the same initial belief\n",
    "initial_covariance = np.diag([1e-3])\n",
    "initial_mean = np.random.multivariate_normal(states_gt[0,:,0], initial_covariance).reshape(-1, 1)\n",
    "\n",
    "initial_state_estimate = (initial_mean, initial_covariance)\n",
    "initial_state_estimate"
   ]
  },
  {
   "cell_type": "code",
   "execution_count": 44,
   "metadata": {},
   "outputs": [],
   "source": [
    "def plot_filter_results(means, filter_name): # Needs to be updated for this system\n",
    "    fig, (ax1, ax2) = plt.subplots(2, 1, figsize=(3, 0.5), constrained_layout=True)\n",
    "    fig.suptitle(f\"Filtering Results: {filter_name}\")\n",
    "\n",
    "    ax1.set_xlabel(\"time\")\n",
    "    ax1.plot(timesteps_sub, states_gt_sub[:,0,0], label=r\"$x$\", color=\"tab:blue\")\n",
    "    ax1.plot(timesteps_sub, states_gt_sub[:,1,0], label=r\"$\\theta_1$\", color=\"tab:orange\")\n",
    "    ax1.plot(timesteps_sub, states_gt_sub[:,2,0], label=r\"$\\theta_2$\", color=\"tab:red\")\n",
    "    ax1.plot(timesteps_sub, means[:,0,0], label=rf\"$x$ ({filter_name})\", color=\"tab:blue\", linestyle=\"--\")\n",
    "    ax1.plot(timesteps_sub, means[:,1,0], label=rf\"$\\theta_1$ ({filter_name})\", color=\"tab:orange\", linestyle=\"--\")\n",
    "    ax1.plot(timesteps_sub, means[:,2,0], label=rf\"$\\theta_2$ ({filter_name})\", color=\"tab:red\", linestyle=\"--\")\n",
    "\n",
    "    for y in np.arange(-2*np.pi, 3*np.pi, step=np.pi/2):\n",
    "        ax1.axhline(y, linestyle=\":\", color=\"gray\")\n",
    "\n",
    "    ax1.legend(ncol=2)\n",
    "\n",
    "    ax2.set_xlabel(\"time\")\n",
    "    ax2.plot(timesteps_sub, states_gt_sub[:,3,0], label=r\"$\\dot x$\", color=\"tab:blue\")\n",
    "    ax2.plot(timesteps_sub, states_gt_sub[:,4,0], label=r\"$\\dot\\theta_1$\", color=\"tab:orange\")\n",
    "    ax2.plot(timesteps_sub, states_gt_sub[:,5,0], label=r\"$\\dot\\theta_2$\", color=\"tab:red\")\n",
    "    ax2.plot(timesteps_sub, means[:,3,0], label=rf\"$\\dot x$ ({filter_name})\", color=\"tab:blue\", linestyle=\"--\")\n",
    "    ax2.plot(timesteps_sub, means[:,4,0], label=rf\"$\\dot\\theta_1$ ({filter_name})\", color=\"tab:orange\", linestyle=\"--\")\n",
    "    ax2.plot(timesteps_sub, means[:,5,0], label=rf\"$\\dot\\theta_2$ ({filter_name})\", color=\"tab:red\", linestyle=\"--\")\n",
    "\n",
    "    for y in np.arange(-2*np.pi, 3*np.pi, step=np.pi/2):\n",
    "        ax2.axhline(y, linestyle=\":\", color=\"gray\")\n",
    "\n",
    "    ax2.legend(ncol=2)"
   ]
  },
  {
   "cell_type": "code",
   "execution_count": 45,
   "metadata": {},
   "outputs": [
    {
     "name": "stderr",
     "output_type": "stream",
     "text": [
      "  3%|▎         | 3/99 [00:00<00:12,  7.91it/s]\n"
     ]
    },
    {
     "ename": "LinAlgError",
     "evalue": "Singular matrix",
     "output_type": "error",
     "traceback": [
      "\u001b[1;31m---------------------------------------------------------------------------\u001b[0m",
      "\u001b[1;31mLinAlgError\u001b[0m                               Traceback (most recent call last)",
      "\u001b[1;32mc:\\Users\\Ian Krause\\Documents\\GitHub\\UKF-Variants\\src\\testing\\mackey_glass_test.ipynb Cell 9\u001b[0m line \u001b[0;36m2\n\u001b[0;32m     <a href='vscode-notebook-cell:/c%3A/Users/Ian%20Krause/Documents/GitHub/UKF-Variants/src/testing/mackey_glass_test.ipynb#X11sZmlsZQ%3D%3D?line=17'>18</a>\u001b[0m z \u001b[39m=\u001b[39m measurements_sub[t]\n\u001b[0;32m     <a href='vscode-notebook-cell:/c%3A/Users/Ian%20Krause/Documents/GitHub/UKF-Variants/src/testing/mackey_glass_test.ipynb#X11sZmlsZQ%3D%3D?line=19'>20</a>\u001b[0m mg_EKF\u001b[39m.\u001b[39mpredict_step(u)\n\u001b[1;32m---> <a href='vscode-notebook-cell:/c%3A/Users/Ian%20Krause/Documents/GitHub/UKF-Variants/src/testing/mackey_glass_test.ipynb#X11sZmlsZQ%3D%3D?line=20'>21</a>\u001b[0m mg_EKF\u001b[39m.\u001b[39;49mupdate_step(z)\n\u001b[0;32m     <a href='vscode-notebook-cell:/c%3A/Users/Ian%20Krause/Documents/GitHub/UKF-Variants/src/testing/mackey_glass_test.ipynb#X11sZmlsZQ%3D%3D?line=22'>23</a>\u001b[0m means_EKF[t] \u001b[39m=\u001b[39m mg_EKF\u001b[39m.\u001b[39mmean\n\u001b[0;32m     <a href='vscode-notebook-cell:/c%3A/Users/Ian%20Krause/Documents/GitHub/UKF-Variants/src/testing/mackey_glass_test.ipynb#X11sZmlsZQ%3D%3D?line=23'>24</a>\u001b[0m covariances_EKF[t] \u001b[39m=\u001b[39m mg_EKF\u001b[39m.\u001b[39mcovariance\n",
      "File \u001b[1;32mc:\\Users\\Ian Krause\\Documents\\GitHub\\UKF-Variants\\src\\testing\\../filtering\\filters.py:136\u001b[0m, in \u001b[0;36mExtendedKalmanFilter.update_step\u001b[1;34m(self, z)\u001b[0m\n\u001b[0;32m    133\u001b[0m C, M \u001b[39m=\u001b[39m \u001b[39mself\u001b[39m\u001b[39m.\u001b[39msystem\u001b[39m.\u001b[39mquery_measurement_jacobian(\u001b[39mself\u001b[39m\u001b[39m.\u001b[39mmean, v_mean)\n\u001b[0;32m    135\u001b[0m \u001b[39m# compute Kalman gain\u001b[39;00m\n\u001b[1;32m--> 136\u001b[0m K \u001b[39m=\u001b[39m \u001b[39mself\u001b[39m\u001b[39m.\u001b[39mcovariance \u001b[39m@\u001b[39m C\u001b[39m.\u001b[39mT \u001b[39m@\u001b[39m np\u001b[39m.\u001b[39;49mlinalg\u001b[39m.\u001b[39;49minv(C \u001b[39m@\u001b[39;49m \u001b[39mself\u001b[39;49m\u001b[39m.\u001b[39;49mcovariance \u001b[39m@\u001b[39;49m C\u001b[39m.\u001b[39;49mT \u001b[39m+\u001b[39;49m M \u001b[39m@\u001b[39;49m \u001b[39mself\u001b[39;49m\u001b[39m.\u001b[39;49msystem\u001b[39m.\u001b[39;49mmeasurement_noise_cov \u001b[39m@\u001b[39;49m M\u001b[39m.\u001b[39;49mT)\n\u001b[0;32m    138\u001b[0m \u001b[39m# Kalman update state\u001b[39;00m\n\u001b[0;32m    139\u001b[0m \u001b[39mself\u001b[39m\u001b[39m.\u001b[39mmean \u001b[39m+\u001b[39m\u001b[39m=\u001b[39m K \u001b[39m@\u001b[39m (z \u001b[39m-\u001b[39m \u001b[39mself\u001b[39m\u001b[39m.\u001b[39msystem\u001b[39m.\u001b[39mquery_measurement_model(\u001b[39mself\u001b[39m\u001b[39m.\u001b[39mmean))\n",
      "File \u001b[1;32m~\\AppData\\Local\\Packages\\PythonSoftwareFoundation.Python.3.11_qbz5n2kfra8p0\\LocalCache\\local-packages\\Python311\\site-packages\\numpy\\linalg\\linalg.py:561\u001b[0m, in \u001b[0;36minv\u001b[1;34m(a)\u001b[0m\n\u001b[0;32m    559\u001b[0m signature \u001b[39m=\u001b[39m \u001b[39m'\u001b[39m\u001b[39mD->D\u001b[39m\u001b[39m'\u001b[39m \u001b[39mif\u001b[39;00m isComplexType(t) \u001b[39melse\u001b[39;00m \u001b[39m'\u001b[39m\u001b[39md->d\u001b[39m\u001b[39m'\u001b[39m\n\u001b[0;32m    560\u001b[0m extobj \u001b[39m=\u001b[39m get_linalg_error_extobj(_raise_linalgerror_singular)\n\u001b[1;32m--> 561\u001b[0m ainv \u001b[39m=\u001b[39m _umath_linalg\u001b[39m.\u001b[39;49minv(a, signature\u001b[39m=\u001b[39;49msignature, extobj\u001b[39m=\u001b[39;49mextobj)\n\u001b[0;32m    562\u001b[0m \u001b[39mreturn\u001b[39;00m wrap(ainv\u001b[39m.\u001b[39mastype(result_t, copy\u001b[39m=\u001b[39m\u001b[39mFalse\u001b[39;00m))\n",
      "File \u001b[1;32m~\\AppData\\Local\\Packages\\PythonSoftwareFoundation.Python.3.11_qbz5n2kfra8p0\\LocalCache\\local-packages\\Python311\\site-packages\\numpy\\linalg\\linalg.py:112\u001b[0m, in \u001b[0;36m_raise_linalgerror_singular\u001b[1;34m(err, flag)\u001b[0m\n\u001b[0;32m    111\u001b[0m \u001b[39mdef\u001b[39;00m \u001b[39m_raise_linalgerror_singular\u001b[39m(err, flag):\n\u001b[1;32m--> 112\u001b[0m     \u001b[39mraise\u001b[39;00m LinAlgError(\u001b[39m\"\u001b[39m\u001b[39mSingular matrix\u001b[39m\u001b[39m\"\u001b[39m)\n",
      "\u001b[1;31mLinAlgError\u001b[0m: Singular matrix"
     ]
    }
   ],
   "source": [
    "# Run the EKF\n",
    "\n",
    "from filters import ExtendedKalmanFilter\n",
    "\n",
    "mg_EKF = ExtendedKalmanFilter(mg_system_approx)\n",
    "\n",
    "# initial state belief\n",
    "mg_EKF.initialize(*initial_state_estimate)\n",
    "\n",
    "means_EKF = np.zeros((T_sub, 6, 1))\n",
    "covariances_EKF = np.zeros((T_sub, 1, 1))\n",
    "\n",
    "means_EKF[0] = mg_EKF.mean\n",
    "covariances_EKF[0] = mg_EKF.covariance\n",
    "\n",
    "for t in tqdm(range(1, T_sub)):\n",
    "    u = controls_sub[t]\n",
    "    z = measurements_sub[t]\n",
    "\n",
    "    mg_EKF.predict_step(u)\n",
    "    mg_EKF.update_step(z)\n",
    "\n",
    "    means_EKF[t] = mg_EKF.mean\n",
    "    covariances_EKF[t] = mg_EKF.covariance\n",
    "\n",
    "# Plot results\n",
    "#plot_filter_results(means_EKF, \"EKF\")"
   ]
  },
  {
   "cell_type": "code",
   "execution_count": null,
   "metadata": {},
   "outputs": [
    {
     "ename": "",
     "evalue": "",
     "output_type": "error",
     "traceback": [
      "\u001b[1;31mRunning cells with 'c:\\Users\\Ian Krause\\AppData\\Local\\Programs\\Python\\Python38-32\\python.exe' requires the ipykernel package.\n",
      "\u001b[1;31mRun the following command to install 'ipykernel' into the Python environment. \n",
      "\u001b[1;31mCommand: '\"c:/Users/Ian Krause/AppData/Local/Programs/Python/Python38-32/python.exe\" -m pip install ipykernel -U --user --force-reinstall'"
     ]
    }
   ],
   "source": [
    "# Run the UKF\n",
    "\n",
    "from filters import UnscentedKalmanFilter\n",
    "mg_UKF = UnscentedKalmanFilter(mg_system_approx)\n",
    "\n",
    "# initial state belief\n",
    "mg_UKF.initialize(*initial_state_estimate)\n",
    "\n",
    "means_UKF = np.zeros((T_sub, 1, 1))\n",
    "covariances_UKF = np.zeros((T_sub, 1, 1))\n",
    "\n",
    "means_UKF[0] = mg_UKF.mean\n",
    "covariances_UKF[0] = mg_UKF.covariance\n",
    "\n",
    "\n",
    "for t in tqdm(range(1, T_sub)):\n",
    "    u = controls_sub[t]\n",
    "    z = measurements_sub[t]\n",
    "\n",
    "    mg_UKF.predict_step(u)\n",
    "    mg_UKF.update_step(z)\n",
    "\n",
    "    means_UKF[t] = mg_UKF.mean\n",
    "    covariances_UKF[t] = mg_UKF.covariance\n",
    "\n",
    "\n",
    "# Plot results\n",
    "#plot_filter_results(means_UKF, \"UKF\")"
   ]
  },
  {
   "cell_type": "code",
   "execution_count": null,
   "metadata": {},
   "outputs": [
    {
     "ename": "",
     "evalue": "",
     "output_type": "error",
     "traceback": [
      "\u001b[1;31mRunning cells with 'c:\\Users\\Ian Krause\\AppData\\Local\\Programs\\Python\\Python38-32\\python.exe' requires the ipykernel package.\n",
      "\u001b[1;31mRun the following command to install 'ipykernel' into the Python environment. \n",
      "\u001b[1;31mCommand: '\"c:/Users/Ian Krause/AppData/Local/Programs/Python/Python38-32/python.exe\" -m pip install ipykernel -U --user --force-reinstall'"
     ]
    }
   ],
   "source": [
    "# Run the UKF Variant\n",
    "\n",
    "from sigma_points import MultiShellSigmaPointSelector\n",
    "\n",
    "mg_UKF2 = UnscentedKalmanFilter(\n",
    "    mg_system_approx,\n",
    "    sigma_point_selector=MultiShellSigmaPointSelector([0.1, 0.5])\n",
    ")\n",
    "\n",
    "# initial state belief\n",
    "mg_UKF2.initialize(*initial_state_estimate)\n",
    "\n",
    "means_UKF2 = np.zeros((T_sub, 6, 1))\n",
    "covariances_UKF2 = np.zeros((T_sub, 6, 6))\n",
    "\n",
    "means_UKF2[0] = mg_UKF2.mean\n",
    "covariances_UKF2[0] = mg_UKF2.covariance\n",
    "\n",
    "\n",
    "for t in tqdm(range(1, T_sub)):\n",
    "    u = controls_sub[t]\n",
    "    z = measurements_sub[t]\n",
    "\n",
    "    mg_UKF2.predict_step(u)\n",
    "    mg_UKF2.update_step(z)\n",
    "\n",
    "    means_UKF2[t] = mg_UKF2.mean\n",
    "    covariances_UKF2[t] = mg_UKF2.covariance\n",
    "\n",
    "\n",
    "# Plot results\n",
    "#plot_filter_results(means_UKF2, \"UKF2\")"
   ]
  },
  {
   "cell_type": "code",
   "execution_count": null,
   "metadata": {},
   "outputs": [
    {
     "ename": "",
     "evalue": "",
     "output_type": "error",
     "traceback": [
      "\u001b[1;31mRunning cells with 'c:\\Users\\Ian Krause\\AppData\\Local\\Programs\\Python\\Python38-32\\python.exe' requires the ipykernel package.\n",
      "\u001b[1;31mRun the following command to install 'ipykernel' into the Python environment. \n",
      "\u001b[1;31mCommand: '\"c:/Users/Ian Krause/AppData/Local/Programs/Python/Python38-32/python.exe\" -m pip install ipykernel -U --user --force-reinstall'"
     ]
    }
   ],
   "source": [
    "# Error Analysis\n",
    "\n",
    "errors_EKF = means_EKF - states_gt_sub\n",
    "errors_UKF = means_UKF - states_gt_sub\n",
    "errors_UKF2 = means_UKF2 - states_gt_sub\n",
    "\n",
    "print(\"EKF Error: \", np.mean(np.linalg.norm(errors_EKF, axis=1)))\n",
    "print(\"UKF Error: \", np.mean(np.linalg.norm(errors_UKF, axis=1)))\n",
    "print(\"UKF2 Error:\", np.mean(np.linalg.norm(errors_UKF2, axis=1)))"
   ]
  },
  {
   "cell_type": "code",
   "execution_count": null,
   "metadata": {},
   "outputs": [
    {
     "ename": "",
     "evalue": "",
     "output_type": "error",
     "traceback": [
      "\u001b[1;31mRunning cells with 'c:\\Users\\Ian Krause\\AppData\\Local\\Programs\\Python\\Python38-32\\python.exe' requires the ipykernel package.\n",
      "\u001b[1;31mRun the following command to install 'ipykernel' into the Python environment. \n",
      "\u001b[1;31mCommand: '\"c:/Users/Ian Krause/AppData/Local/Programs/Python/Python38-32/python.exe\" -m pip install ipykernel -U --user --force-reinstall'"
     ]
    }
   ],
   "source": []
  }
 ],
 "metadata": {
  "kernelspec": {
   "display_name": "venv",
   "language": "python",
   "name": "python3"
  },
  "language_info": {
   "codemirror_mode": {
    "name": "ipython",
    "version": 3
   },
   "file_extension": ".py",
   "mimetype": "text/x-python",
   "name": "python",
   "nbconvert_exporter": "python",
   "pygments_lexer": "ipython3",
   "version": "3.11.6"
  }
 },
 "nbformat": 4,
 "nbformat_minor": 2
}
